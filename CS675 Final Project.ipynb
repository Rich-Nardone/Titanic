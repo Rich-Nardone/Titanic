{
 "cells": [
  {
   "cell_type": "markdown",
   "id": "e83f4266",
   "metadata": {},
   "source": [
    "## Import Libraries"
   ]
  },
  {
   "cell_type": "code",
   "execution_count": 1,
   "id": "0887f71c",
   "metadata": {},
   "outputs": [
    {
     "data": {
      "text/plain": [
       "<Figure size 1296x720 with 0 Axes>"
      ]
     },
     "metadata": {},
     "output_type": "display_data"
    }
   ],
   "source": [
    "from sklearn.model_selection import train_test_split\n",
    "from sklearn.metrics import explained_variance_score\n",
    "from sklearn.preprocessing import LabelEncoder\n",
    "from sklearn.metrics import mean_squared_error\n",
    "from sklearn.preprocessing import StandardScaler\n",
    "from sklearn import preprocessing\n",
    "import matplotlib.pyplot as plt\n",
    "import seaborn as sns\n",
    "import xgboost as xgb\n",
    "import pandas as pd\n",
    "import numpy as np\n",
    "import graphviz\n",
    "import os\n",
    "os.environ[\"PATH\"] += os.pathsep + 'C:/Program Files/Graphviz/bin/'\n",
    "%matplotlib inline\n",
    "fig = plt.figure(figsize = (18,10))"
   ]
  },
  {
   "cell_type": "markdown",
   "id": "596c404f",
   "metadata": {},
   "source": [
    "## Import Datasets"
   ]
  },
  {
   "cell_type": "code",
   "execution_count": 2,
   "id": "4d39edea",
   "metadata": {},
   "outputs": [],
   "source": [
    "train = pd.read_csv('train_titanic.csv')\n",
    "test = pd.read_csv('test_titanic.csv')"
   ]
  },
  {
   "cell_type": "markdown",
   "id": "5300e287",
   "metadata": {},
   "source": [
    "## Data Preperation "
   ]
  },
  {
   "cell_type": "code",
   "execution_count": 3,
   "id": "f0ac934c",
   "metadata": {},
   "outputs": [
    {
     "data": {
      "text/html": [
       "<div>\n",
       "<style scoped>\n",
       "    .dataframe tbody tr th:only-of-type {\n",
       "        vertical-align: middle;\n",
       "    }\n",
       "\n",
       "    .dataframe tbody tr th {\n",
       "        vertical-align: top;\n",
       "    }\n",
       "\n",
       "    .dataframe thead th {\n",
       "        text-align: right;\n",
       "    }\n",
       "</style>\n",
       "<table border=\"1\" class=\"dataframe\">\n",
       "  <thead>\n",
       "    <tr style=\"text-align: right;\">\n",
       "      <th></th>\n",
       "      <th>PassengerId</th>\n",
       "      <th>Survived</th>\n",
       "      <th>Pclass</th>\n",
       "      <th>Name</th>\n",
       "      <th>Sex</th>\n",
       "      <th>Age</th>\n",
       "      <th>SibSp</th>\n",
       "      <th>Parch</th>\n",
       "      <th>Ticket</th>\n",
       "      <th>Fare</th>\n",
       "      <th>Cabin</th>\n",
       "      <th>Embarked</th>\n",
       "    </tr>\n",
       "  </thead>\n",
       "  <tbody>\n",
       "    <tr>\n",
       "      <th>0</th>\n",
       "      <td>1</td>\n",
       "      <td>0</td>\n",
       "      <td>3</td>\n",
       "      <td>Braund, Mr. Owen Harris</td>\n",
       "      <td>male</td>\n",
       "      <td>22.0</td>\n",
       "      <td>1</td>\n",
       "      <td>0</td>\n",
       "      <td>A/5 21171</td>\n",
       "      <td>7.2500</td>\n",
       "      <td>NaN</td>\n",
       "      <td>S</td>\n",
       "    </tr>\n",
       "    <tr>\n",
       "      <th>1</th>\n",
       "      <td>2</td>\n",
       "      <td>1</td>\n",
       "      <td>1</td>\n",
       "      <td>Cumings, Mrs. John Bradley (Florence Briggs Th...</td>\n",
       "      <td>female</td>\n",
       "      <td>38.0</td>\n",
       "      <td>1</td>\n",
       "      <td>0</td>\n",
       "      <td>PC 17599</td>\n",
       "      <td>71.2833</td>\n",
       "      <td>C85</td>\n",
       "      <td>C</td>\n",
       "    </tr>\n",
       "    <tr>\n",
       "      <th>2</th>\n",
       "      <td>3</td>\n",
       "      <td>1</td>\n",
       "      <td>3</td>\n",
       "      <td>Heikkinen, Miss. Laina</td>\n",
       "      <td>female</td>\n",
       "      <td>26.0</td>\n",
       "      <td>0</td>\n",
       "      <td>0</td>\n",
       "      <td>STON/O2. 3101282</td>\n",
       "      <td>7.9250</td>\n",
       "      <td>NaN</td>\n",
       "      <td>S</td>\n",
       "    </tr>\n",
       "    <tr>\n",
       "      <th>3</th>\n",
       "      <td>4</td>\n",
       "      <td>1</td>\n",
       "      <td>1</td>\n",
       "      <td>Futrelle, Mrs. Jacques Heath (Lily May Peel)</td>\n",
       "      <td>female</td>\n",
       "      <td>35.0</td>\n",
       "      <td>1</td>\n",
       "      <td>0</td>\n",
       "      <td>113803</td>\n",
       "      <td>53.1000</td>\n",
       "      <td>C123</td>\n",
       "      <td>S</td>\n",
       "    </tr>\n",
       "    <tr>\n",
       "      <th>4</th>\n",
       "      <td>5</td>\n",
       "      <td>0</td>\n",
       "      <td>3</td>\n",
       "      <td>Allen, Mr. William Henry</td>\n",
       "      <td>male</td>\n",
       "      <td>35.0</td>\n",
       "      <td>0</td>\n",
       "      <td>0</td>\n",
       "      <td>373450</td>\n",
       "      <td>8.0500</td>\n",
       "      <td>NaN</td>\n",
       "      <td>S</td>\n",
       "    </tr>\n",
       "  </tbody>\n",
       "</table>\n",
       "</div>"
      ],
      "text/plain": [
       "   PassengerId  Survived  Pclass  \\\n",
       "0            1         0       3   \n",
       "1            2         1       1   \n",
       "2            3         1       3   \n",
       "3            4         1       1   \n",
       "4            5         0       3   \n",
       "\n",
       "                                                Name     Sex   Age  SibSp  \\\n",
       "0                            Braund, Mr. Owen Harris    male  22.0      1   \n",
       "1  Cumings, Mrs. John Bradley (Florence Briggs Th...  female  38.0      1   \n",
       "2                             Heikkinen, Miss. Laina  female  26.0      0   \n",
       "3       Futrelle, Mrs. Jacques Heath (Lily May Peel)  female  35.0      1   \n",
       "4                           Allen, Mr. William Henry    male  35.0      0   \n",
       "\n",
       "   Parch            Ticket     Fare Cabin Embarked  \n",
       "0      0         A/5 21171   7.2500   NaN        S  \n",
       "1      0          PC 17599  71.2833   C85        C  \n",
       "2      0  STON/O2. 3101282   7.9250   NaN        S  \n",
       "3      0            113803  53.1000  C123        S  \n",
       "4      0            373450   8.0500   NaN        S  "
      ]
     },
     "execution_count": 3,
     "metadata": {},
     "output_type": "execute_result"
    }
   ],
   "source": [
    "train.head()"
   ]
  },
  {
   "cell_type": "code",
   "execution_count": 4,
   "id": "d01fbb68",
   "metadata": {},
   "outputs": [
    {
     "data": {
      "text/html": [
       "<div>\n",
       "<style scoped>\n",
       "    .dataframe tbody tr th:only-of-type {\n",
       "        vertical-align: middle;\n",
       "    }\n",
       "\n",
       "    .dataframe tbody tr th {\n",
       "        vertical-align: top;\n",
       "    }\n",
       "\n",
       "    .dataframe thead th {\n",
       "        text-align: right;\n",
       "    }\n",
       "</style>\n",
       "<table border=\"1\" class=\"dataframe\">\n",
       "  <thead>\n",
       "    <tr style=\"text-align: right;\">\n",
       "      <th></th>\n",
       "      <th>PassengerId</th>\n",
       "      <th>Pclass</th>\n",
       "      <th>Name</th>\n",
       "      <th>Sex</th>\n",
       "      <th>Age</th>\n",
       "      <th>SibSp</th>\n",
       "      <th>Parch</th>\n",
       "      <th>Ticket</th>\n",
       "      <th>Fare</th>\n",
       "      <th>Cabin</th>\n",
       "      <th>Embarked</th>\n",
       "    </tr>\n",
       "  </thead>\n",
       "  <tbody>\n",
       "    <tr>\n",
       "      <th>0</th>\n",
       "      <td>892</td>\n",
       "      <td>3</td>\n",
       "      <td>Kelly, Mr. James</td>\n",
       "      <td>male</td>\n",
       "      <td>34.5</td>\n",
       "      <td>0</td>\n",
       "      <td>0</td>\n",
       "      <td>330911</td>\n",
       "      <td>7.8292</td>\n",
       "      <td>NaN</td>\n",
       "      <td>Q</td>\n",
       "    </tr>\n",
       "    <tr>\n",
       "      <th>1</th>\n",
       "      <td>893</td>\n",
       "      <td>3</td>\n",
       "      <td>Wilkes, Mrs. James (Ellen Needs)</td>\n",
       "      <td>female</td>\n",
       "      <td>47.0</td>\n",
       "      <td>1</td>\n",
       "      <td>0</td>\n",
       "      <td>363272</td>\n",
       "      <td>7.0000</td>\n",
       "      <td>NaN</td>\n",
       "      <td>S</td>\n",
       "    </tr>\n",
       "    <tr>\n",
       "      <th>2</th>\n",
       "      <td>894</td>\n",
       "      <td>2</td>\n",
       "      <td>Myles, Mr. Thomas Francis</td>\n",
       "      <td>male</td>\n",
       "      <td>62.0</td>\n",
       "      <td>0</td>\n",
       "      <td>0</td>\n",
       "      <td>240276</td>\n",
       "      <td>9.6875</td>\n",
       "      <td>NaN</td>\n",
       "      <td>Q</td>\n",
       "    </tr>\n",
       "    <tr>\n",
       "      <th>3</th>\n",
       "      <td>895</td>\n",
       "      <td>3</td>\n",
       "      <td>Wirz, Mr. Albert</td>\n",
       "      <td>male</td>\n",
       "      <td>27.0</td>\n",
       "      <td>0</td>\n",
       "      <td>0</td>\n",
       "      <td>315154</td>\n",
       "      <td>8.6625</td>\n",
       "      <td>NaN</td>\n",
       "      <td>S</td>\n",
       "    </tr>\n",
       "    <tr>\n",
       "      <th>4</th>\n",
       "      <td>896</td>\n",
       "      <td>3</td>\n",
       "      <td>Hirvonen, Mrs. Alexander (Helga E Lindqvist)</td>\n",
       "      <td>female</td>\n",
       "      <td>22.0</td>\n",
       "      <td>1</td>\n",
       "      <td>1</td>\n",
       "      <td>3101298</td>\n",
       "      <td>12.2875</td>\n",
       "      <td>NaN</td>\n",
       "      <td>S</td>\n",
       "    </tr>\n",
       "  </tbody>\n",
       "</table>\n",
       "</div>"
      ],
      "text/plain": [
       "   PassengerId  Pclass                                          Name     Sex  \\\n",
       "0          892       3                              Kelly, Mr. James    male   \n",
       "1          893       3              Wilkes, Mrs. James (Ellen Needs)  female   \n",
       "2          894       2                     Myles, Mr. Thomas Francis    male   \n",
       "3          895       3                              Wirz, Mr. Albert    male   \n",
       "4          896       3  Hirvonen, Mrs. Alexander (Helga E Lindqvist)  female   \n",
       "\n",
       "    Age  SibSp  Parch   Ticket     Fare Cabin Embarked  \n",
       "0  34.5      0      0   330911   7.8292   NaN        Q  \n",
       "1  47.0      1      0   363272   7.0000   NaN        S  \n",
       "2  62.0      0      0   240276   9.6875   NaN        Q  \n",
       "3  27.0      0      0   315154   8.6625   NaN        S  \n",
       "4  22.0      1      1  3101298  12.2875   NaN        S  "
      ]
     },
     "execution_count": 4,
     "metadata": {},
     "output_type": "execute_result"
    }
   ],
   "source": [
    "test.head()"
   ]
  },
  {
   "cell_type": "code",
   "execution_count": 5,
   "id": "00347929",
   "metadata": {},
   "outputs": [
    {
     "data": {
      "text/plain": [
       "PassengerId      0\n",
       "Survived         0\n",
       "Pclass           0\n",
       "Name             0\n",
       "Sex              0\n",
       "Age            177\n",
       "SibSp            0\n",
       "Parch            0\n",
       "Ticket           0\n",
       "Fare             0\n",
       "Cabin          687\n",
       "Embarked         2\n",
       "dtype: int64"
      ]
     },
     "execution_count": 5,
     "metadata": {},
     "output_type": "execute_result"
    }
   ],
   "source": [
    "pd.isna(train).sum()"
   ]
  },
  {
   "cell_type": "code",
   "execution_count": 6,
   "id": "8dbffba9",
   "metadata": {
    "scrolled": true
   },
   "outputs": [
    {
     "data": {
      "text/plain": [
       "PassengerId      0\n",
       "Pclass           0\n",
       "Name             0\n",
       "Sex              0\n",
       "Age             86\n",
       "SibSp            0\n",
       "Parch            0\n",
       "Ticket           0\n",
       "Fare             1\n",
       "Cabin          327\n",
       "Embarked         0\n",
       "dtype: int64"
      ]
     },
     "execution_count": 6,
     "metadata": {},
     "output_type": "execute_result"
    }
   ],
   "source": [
    "pd.isna(test).sum()"
   ]
  },
  {
   "cell_type": "markdown",
   "id": "0b8666e6",
   "metadata": {},
   "source": [
    "### The Cabin Column has too much data to work with so we will drop that column. Age has a decent amount missing as well but we will try to impute those numbers because it may be useful."
   ]
  },
  {
   "cell_type": "code",
   "execution_count": 7,
   "id": "4874ab08",
   "metadata": {},
   "outputs": [],
   "source": [
    "train.drop(columns= ['Cabin'], inplace= True)\n",
    "test.drop(columns= ['Cabin'], inplace= True)"
   ]
  },
  {
   "cell_type": "markdown",
   "id": "1203c104",
   "metadata": {},
   "source": [
    "### List of columns we are keeping"
   ]
  },
  {
   "cell_type": "code",
   "execution_count": 8,
   "id": "df15be99",
   "metadata": {},
   "outputs": [
    {
     "data": {
      "text/plain": [
       "Index(['PassengerId', 'Survived', 'Pclass', 'Name', 'Sex', 'Age', 'SibSp',\n",
       "       'Parch', 'Ticket', 'Fare', 'Embarked'],\n",
       "      dtype='object')"
      ]
     },
     "execution_count": 8,
     "metadata": {},
     "output_type": "execute_result"
    }
   ],
   "source": [
    "columns = train.columns\n",
    "columns"
   ]
  },
  {
   "cell_type": "markdown",
   "id": "0c8a0726",
   "metadata": {},
   "source": [
    "## Feature Creation"
   ]
  },
  {
   "cell_type": "markdown",
   "id": "52b9fc1e",
   "metadata": {},
   "source": [
    "#### SibSp is # of Siblings / Spouses aboard the Titanic.\n",
    "#### Parch is # of Parents / Children aboard the Titanic"
   ]
  },
  {
   "cell_type": "code",
   "execution_count": 9,
   "id": "8d905096",
   "metadata": {},
   "outputs": [
    {
     "data": {
      "text/plain": [
       "8"
      ]
     },
     "execution_count": 9,
     "metadata": {},
     "output_type": "execute_result"
    }
   ],
   "source": [
    "train['SibSp'].max()"
   ]
  },
  {
   "cell_type": "code",
   "execution_count": 10,
   "id": "f1dfd43a",
   "metadata": {},
   "outputs": [
    {
     "data": {
      "text/plain": [
       "6"
      ]
     },
     "execution_count": 10,
     "metadata": {},
     "output_type": "execute_result"
    }
   ],
   "source": [
    "train['Parch'].max()"
   ]
  },
  {
   "cell_type": "code",
   "execution_count": 11,
   "id": "a7518b40",
   "metadata": {},
   "outputs": [],
   "source": [
    "train['FamilyMembers'] = train['SibSp'] + train['Parch'] \n",
    "test['FamilyMembers'] = test['SibSp'] + test['Parch'] "
   ]
  },
  {
   "cell_type": "code",
   "execution_count": 12,
   "id": "1decd23c",
   "metadata": {},
   "outputs": [],
   "source": [
    "train['Alone'] = train.apply(lambda x: 1 if x.FamilyMembers==0 else 0,axis =1)\n",
    "test['Alone'] = test.apply(lambda x: 1 if x.FamilyMembers==0 else 0,axis =1)"
   ]
  },
  {
   "cell_type": "code",
   "execution_count": 13,
   "id": "22e26ce8",
   "metadata": {},
   "outputs": [
    {
     "data": {
      "text/plain": [
       "<matplotlib.legend.Legend at 0x24df5fc3760>"
      ]
     },
     "execution_count": 13,
     "metadata": {},
     "output_type": "execute_result"
    },
    {
     "data": {
      "image/png": "[encoded data removed]",
      "text/plain": [
       "<Figure size 432x288 with 1 Axes>"
      ]
     },
     "metadata": {
      "needs_background": "light"
     },
     "output_type": "display_data"
    }
   ],
   "source": [
    "plt.hist(x = [train[train['Survived']==1]['Alone'], train[train['Survived']==0]['Alone']], density=True,histtype='bar', color = ['g','r'],label = ['Survived','Dead'])\n",
    "plt.title('Alone by Survival')\n",
    "plt.xlabel('Alone')\n",
    "plt.ylabel('# of Passengers')\n",
    "plt.legend()"
   ]
  },
  {
   "cell_type": "code",
   "execution_count": 14,
   "id": "ddf4d0ed",
   "metadata": {},
   "outputs": [
    {
     "data": {
      "text/plain": [
       "<matplotlib.legend.Legend at 0x24df61acc70>"
      ]
     },
     "execution_count": 14,
     "metadata": {},
     "output_type": "execute_result"
    },
    {
     "data": {
      "image/png": "[encoded data removed]",
      "text/plain": [
       "<Figure size 432x288 with 1 Axes>"
      ]
     },
     "metadata": {
      "needs_background": "light"
     },
     "output_type": "display_data"
    }
   ],
   "source": [
    "plt.hist(x = [train[train['Survived']==1]['Pclass'], train[train['Survived']==0]['Pclass']], density=True,histtype='bar', color = ['g','r'],label = ['Survived','Dead'])\n",
    "plt.title('Pclass by Survival')\n",
    "plt.xlabel('Pclass')\n",
    "plt.ylabel('# of Passengers')\n",
    "plt.legend()"
   ]
  },
  {
   "cell_type": "markdown",
   "id": "5c200beb",
   "metadata": {},
   "source": [
    "#### Pclass shows a strong correlation with survival rate. Pclass = 3 is more likely to die and Pclass = 1 is more likely to Survive"
   ]
  },
  {
   "cell_type": "markdown",
   "id": "53cbb4ad",
   "metadata": {},
   "source": [
    "### Extract passenger's title or prefix from the name attribute."
   ]
  },
  {
   "cell_type": "code",
   "execution_count": 15,
   "id": "d3f316e1",
   "metadata": {},
   "outputs": [],
   "source": [
    "train['Prefix'] = train.Name.str.extract(' ([A-Za-z]+)\\.', expand=False)\n",
    "test['Prefix'] = test.Name.str.extract(' ([A-Za-z]+)\\.', expand=False)"
   ]
  },
  {
   "cell_type": "markdown",
   "id": "f3b1690a",
   "metadata": {},
   "source": [
    "### Extract passenger's second name from the name attribute.\n",
    "##### Dropped this attribute later because it proved to be irrelevent."
   ]
  },
  {
   "cell_type": "code",
   "execution_count": 16,
   "id": "4aba1a5a",
   "metadata": {},
   "outputs": [],
   "source": [
    "train['Pname']= train.Name.str.extract('.*\\((.*)\\).*')\n",
    "test['Pname']= test.Name.str.extract('.*\\((.*)\\).*')"
   ]
  },
  {
   "cell_type": "markdown",
   "id": "5fa7b4bc",
   "metadata": {},
   "source": [
    "### Display the counts aswell as frequency of survival rate based on prefix"
   ]
  },
  {
   "cell_type": "code",
   "execution_count": 17,
   "id": "d94a612d",
   "metadata": {},
   "outputs": [
    {
     "data": {
      "text/html": [
       "<div>\n",
       "<style scoped>\n",
       "    .dataframe tbody tr th:only-of-type {\n",
       "        vertical-align: middle;\n",
       "    }\n",
       "\n",
       "    .dataframe tbody tr th {\n",
       "        vertical-align: top;\n",
       "    }\n",
       "\n",
       "    .dataframe thead th {\n",
       "        text-align: right;\n",
       "    }\n",
       "</style>\n",
       "<table border=\"1\" class=\"dataframe\">\n",
       "  <thead>\n",
       "    <tr style=\"text-align: right;\">\n",
       "      <th>Survived</th>\n",
       "      <th>0</th>\n",
       "      <th>1</th>\n",
       "    </tr>\n",
       "    <tr>\n",
       "      <th>Prefix</th>\n",
       "      <th></th>\n",
       "      <th></th>\n",
       "    </tr>\n",
       "  </thead>\n",
       "  <tbody>\n",
       "    <tr>\n",
       "      <th>Capt</th>\n",
       "      <td>1</td>\n",
       "      <td>0</td>\n",
       "    </tr>\n",
       "    <tr>\n",
       "      <th>Col</th>\n",
       "      <td>1</td>\n",
       "      <td>1</td>\n",
       "    </tr>\n",
       "    <tr>\n",
       "      <th>Countess</th>\n",
       "      <td>0</td>\n",
       "      <td>1</td>\n",
       "    </tr>\n",
       "    <tr>\n",
       "      <th>Don</th>\n",
       "      <td>1</td>\n",
       "      <td>0</td>\n",
       "    </tr>\n",
       "    <tr>\n",
       "      <th>Dr</th>\n",
       "      <td>4</td>\n",
       "      <td>3</td>\n",
       "    </tr>\n",
       "    <tr>\n",
       "      <th>Jonkheer</th>\n",
       "      <td>1</td>\n",
       "      <td>0</td>\n",
       "    </tr>\n",
       "    <tr>\n",
       "      <th>Lady</th>\n",
       "      <td>0</td>\n",
       "      <td>1</td>\n",
       "    </tr>\n",
       "    <tr>\n",
       "      <th>Major</th>\n",
       "      <td>1</td>\n",
       "      <td>1</td>\n",
       "    </tr>\n",
       "    <tr>\n",
       "      <th>Master</th>\n",
       "      <td>17</td>\n",
       "      <td>23</td>\n",
       "    </tr>\n",
       "    <tr>\n",
       "      <th>Miss</th>\n",
       "      <td>55</td>\n",
       "      <td>127</td>\n",
       "    </tr>\n",
       "    <tr>\n",
       "      <th>Mlle</th>\n",
       "      <td>0</td>\n",
       "      <td>2</td>\n",
       "    </tr>\n",
       "    <tr>\n",
       "      <th>Mme</th>\n",
       "      <td>0</td>\n",
       "      <td>1</td>\n",
       "    </tr>\n",
       "    <tr>\n",
       "      <th>Mr</th>\n",
       "      <td>436</td>\n",
       "      <td>81</td>\n",
       "    </tr>\n",
       "    <tr>\n",
       "      <th>Mrs</th>\n",
       "      <td>26</td>\n",
       "      <td>99</td>\n",
       "    </tr>\n",
       "    <tr>\n",
       "      <th>Ms</th>\n",
       "      <td>0</td>\n",
       "      <td>1</td>\n",
       "    </tr>\n",
       "    <tr>\n",
       "      <th>Rev</th>\n",
       "      <td>6</td>\n",
       "      <td>0</td>\n",
       "    </tr>\n",
       "    <tr>\n",
       "      <th>Sir</th>\n",
       "      <td>0</td>\n",
       "      <td>1</td>\n",
       "    </tr>\n",
       "  </tbody>\n",
       "</table>\n",
       "</div>"
      ],
      "text/plain": [
       "Survived    0    1\n",
       "Prefix            \n",
       "Capt        1    0\n",
       "Col         1    1\n",
       "Countess    0    1\n",
       "Don         1    0\n",
       "Dr          4    3\n",
       "Jonkheer    1    0\n",
       "Lady        0    1\n",
       "Major       1    1\n",
       "Master     17   23\n",
       "Miss       55  127\n",
       "Mlle        0    2\n",
       "Mme         0    1\n",
       "Mr        436   81\n",
       "Mrs        26   99\n",
       "Ms          0    1\n",
       "Rev         6    0\n",
       "Sir         0    1"
      ]
     },
     "execution_count": 17,
     "metadata": {},
     "output_type": "execute_result"
    }
   ],
   "source": [
    "pd.crosstab(train['Prefix'], train['Survived'])"
   ]
  },
  {
   "cell_type": "code",
   "execution_count": 18,
   "id": "07773944",
   "metadata": {},
   "outputs": [
    {
     "data": {
      "text/html": [
       "<div>\n",
       "<style scoped>\n",
       "    .dataframe tbody tr th:only-of-type {\n",
       "        vertical-align: middle;\n",
       "    }\n",
       "\n",
       "    .dataframe tbody tr th {\n",
       "        vertical-align: top;\n",
       "    }\n",
       "\n",
       "    .dataframe thead th {\n",
       "        text-align: right;\n",
       "    }\n",
       "</style>\n",
       "<table border=\"1\" class=\"dataframe\">\n",
       "  <thead>\n",
       "    <tr style=\"text-align: right;\">\n",
       "      <th>Survived</th>\n",
       "      <th>0</th>\n",
       "      <th>1</th>\n",
       "    </tr>\n",
       "    <tr>\n",
       "      <th>Prefix</th>\n",
       "      <th></th>\n",
       "      <th></th>\n",
       "    </tr>\n",
       "  </thead>\n",
       "  <tbody>\n",
       "    <tr>\n",
       "      <th>Capt</th>\n",
       "      <td>1.000000</td>\n",
       "      <td>0.000000</td>\n",
       "    </tr>\n",
       "    <tr>\n",
       "      <th>Col</th>\n",
       "      <td>0.500000</td>\n",
       "      <td>0.500000</td>\n",
       "    </tr>\n",
       "    <tr>\n",
       "      <th>Countess</th>\n",
       "      <td>0.000000</td>\n",
       "      <td>1.000000</td>\n",
       "    </tr>\n",
       "    <tr>\n",
       "      <th>Don</th>\n",
       "      <td>1.000000</td>\n",
       "      <td>0.000000</td>\n",
       "    </tr>\n",
       "    <tr>\n",
       "      <th>Dr</th>\n",
       "      <td>0.571429</td>\n",
       "      <td>0.428571</td>\n",
       "    </tr>\n",
       "    <tr>\n",
       "      <th>Jonkheer</th>\n",
       "      <td>1.000000</td>\n",
       "      <td>0.000000</td>\n",
       "    </tr>\n",
       "    <tr>\n",
       "      <th>Lady</th>\n",
       "      <td>0.000000</td>\n",
       "      <td>1.000000</td>\n",
       "    </tr>\n",
       "    <tr>\n",
       "      <th>Major</th>\n",
       "      <td>0.500000</td>\n",
       "      <td>0.500000</td>\n",
       "    </tr>\n",
       "    <tr>\n",
       "      <th>Master</th>\n",
       "      <td>0.425000</td>\n",
       "      <td>0.575000</td>\n",
       "    </tr>\n",
       "    <tr>\n",
       "      <th>Miss</th>\n",
       "      <td>0.302198</td>\n",
       "      <td>0.697802</td>\n",
       "    </tr>\n",
       "    <tr>\n",
       "      <th>Mlle</th>\n",
       "      <td>0.000000</td>\n",
       "      <td>1.000000</td>\n",
       "    </tr>\n",
       "    <tr>\n",
       "      <th>Mme</th>\n",
       "      <td>0.000000</td>\n",
       "      <td>1.000000</td>\n",
       "    </tr>\n",
       "    <tr>\n",
       "      <th>Mr</th>\n",
       "      <td>0.843327</td>\n",
       "      <td>0.156673</td>\n",
       "    </tr>\n",
       "    <tr>\n",
       "      <th>Mrs</th>\n",
       "      <td>0.208000</td>\n",
       "      <td>0.792000</td>\n",
       "    </tr>\n",
       "    <tr>\n",
       "      <th>Ms</th>\n",
       "      <td>0.000000</td>\n",
       "      <td>1.000000</td>\n",
       "    </tr>\n",
       "    <tr>\n",
       "      <th>Rev</th>\n",
       "      <td>1.000000</td>\n",
       "      <td>0.000000</td>\n",
       "    </tr>\n",
       "    <tr>\n",
       "      <th>Sir</th>\n",
       "      <td>0.000000</td>\n",
       "      <td>1.000000</td>\n",
       "    </tr>\n",
       "  </tbody>\n",
       "</table>\n",
       "</div>"
      ],
      "text/plain": [
       "Survived         0         1\n",
       "Prefix                      \n",
       "Capt      1.000000  0.000000\n",
       "Col       0.500000  0.500000\n",
       "Countess  0.000000  1.000000\n",
       "Don       1.000000  0.000000\n",
       "Dr        0.571429  0.428571\n",
       "Jonkheer  1.000000  0.000000\n",
       "Lady      0.000000  1.000000\n",
       "Major     0.500000  0.500000\n",
       "Master    0.425000  0.575000\n",
       "Miss      0.302198  0.697802\n",
       "Mlle      0.000000  1.000000\n",
       "Mme       0.000000  1.000000\n",
       "Mr        0.843327  0.156673\n",
       "Mrs       0.208000  0.792000\n",
       "Ms        0.000000  1.000000\n",
       "Rev       1.000000  0.000000\n",
       "Sir       0.000000  1.000000"
      ]
     },
     "execution_count": 18,
     "metadata": {},
     "output_type": "execute_result"
    }
   ],
   "source": [
    "pd.crosstab(train['Prefix'], train['Survived'], normalize='index')"
   ]
  },
  {
   "cell_type": "markdown",
   "id": "a7364b3d",
   "metadata": {},
   "source": [
    "### Use prefixs to estimate age of passengers with missing value."
   ]
  },
  {
   "cell_type": "code",
   "execution_count": 19,
   "id": "6ff4a98e",
   "metadata": {},
   "outputs": [],
   "source": [
    "uncommon = ['Sir', 'Lady', 'Capt', 'Don','Dona', 'Jonkheer', 'Major', 'Col', 'Rev', 'Dr','Countess']\n",
    "common = ['Mr','Mrs','Miss','Master']"
   ]
  },
  {
   "cell_type": "code",
   "execution_count": 20,
   "id": "2e718d7c",
   "metadata": {},
   "outputs": [],
   "source": [
    "train['Prefix'] = train['Prefix'].replace('Mlle', 'Miss')\n",
    "train['Prefix'] = train['Prefix'].replace('Ms', 'Miss')\n",
    "train['Prefix'] = train['Prefix'].replace('Mme', 'Mrs')"
   ]
  },
  {
   "cell_type": "code",
   "execution_count": 21,
   "id": "dc49c8e4",
   "metadata": {},
   "outputs": [],
   "source": [
    "test['Prefix'] = test['Prefix'].replace('Mlle', 'Miss')\n",
    "test['Prefix'] = test['Prefix'].replace('Ms', 'Miss')\n",
    "test['Prefix'] = test['Prefix'].replace('Mme', 'Mrs')"
   ]
  },
  {
   "cell_type": "code",
   "execution_count": 22,
   "id": "f2530e67",
   "metadata": {},
   "outputs": [
    {
     "data": {
      "text/plain": [
       "{'Sir': 49.0,\n",
       " 'Lady': 48.0,\n",
       " 'Capt': 70.0,\n",
       " 'Don': 40.0,\n",
       " 'Jonkheer': 38.0,\n",
       " 'Major': 48.5,\n",
       " 'Col': 58.0,\n",
       " 'Rev': 43.166666666666664,\n",
       " 'Dr': 42.0,\n",
       " 'Countess': 33.0}"
      ]
     },
     "execution_count": 22,
     "metadata": {},
     "output_type": "execute_result"
    }
   ],
   "source": [
    "\n",
    "means = {}\n",
    "for i in uncommon:\n",
    "    if(train[train['Prefix']==i]['Age'].count()>0):\n",
    "        means[i] = train[train['Prefix']==i]['Age'].sum()/train[train['Prefix']==i]['Age'].count()\n",
    "means"
   ]
  },
  {
   "cell_type": "code",
   "execution_count": 23,
   "id": "b0b80190",
   "metadata": {},
   "outputs": [
    {
     "data": {
      "text/plain": [
       "{'Sir': 49.0,\n",
       " 'Lady': 48.0,\n",
       " 'Capt': 70.0,\n",
       " 'Don': 40.0,\n",
       " 'Jonkheer': 38.0,\n",
       " 'Major': 48.5,\n",
       " 'Col': 58.0,\n",
       " 'Rev': 43.166666666666664,\n",
       " 'Dr': 42.0,\n",
       " 'Countess': 33.0,\n",
       " 'Mr': 32.368090452261306,\n",
       " 'Mrs': 35.788990825688074,\n",
       " 'Miss': 21.845637583892618,\n",
       " 'Master': 4.574166666666667}"
      ]
     },
     "execution_count": 23,
     "metadata": {},
     "output_type": "execute_result"
    }
   ],
   "source": [
    "for i in common:\n",
    "    means[i] = train[train['Prefix']==i]['Age'].sum()/train[train['Prefix']==i]['Age'].count()\n",
    "means"
   ]
  },
  {
   "cell_type": "code",
   "execution_count": 24,
   "id": "de9e9b37",
   "metadata": {},
   "outputs": [],
   "source": [
    "train['Age'] = train.apply(lambda x: means[x.Prefix] if pd.isna(x.Age) else x.Age,axis =1)"
   ]
  },
  {
   "cell_type": "code",
   "execution_count": 25,
   "id": "15482e71",
   "metadata": {},
   "outputs": [],
   "source": [
    "test['Age'] = test.apply(lambda x: means[x.Prefix] if pd.isna(x.Age) else x.Age,axis =1)"
   ]
  },
  {
   "cell_type": "markdown",
   "id": "aec76b2c",
   "metadata": {},
   "source": [
    "### Create Feature Age_Band which bins ages to create a categorical feature.\n",
    "#### This feature was tuned many times. I changed bin sizes and number of bins to get the graph and model score higher."
   ]
  },
  {
   "cell_type": "code",
   "execution_count": 26,
   "id": "d60882dd",
   "metadata": {},
   "outputs": [],
   "source": [
    "train['Age_Band'] = pd.cut(train['Age'], bins=[0,12,20,55,110], labels=['Child','Teen','Adult','Elder'])"
   ]
  },
  {
   "cell_type": "code",
   "execution_count": 27,
   "id": "8153bc22",
   "metadata": {},
   "outputs": [],
   "source": [
    "test['Age_Band'] = pd.cut(test['Age'], bins=[0,12,20,55,110], labels=['Child','Teen','Adult','Elder'])"
   ]
  },
  {
   "cell_type": "code",
   "execution_count": 28,
   "id": "74193f14",
   "metadata": {},
   "outputs": [],
   "source": [
    "train['Prefix'] = train['Prefix'].replace(uncommon, 'uncommon')\n",
    "test['Prefix'] = test['Prefix'].replace(uncommon, 'uncommon')"
   ]
  },
  {
   "cell_type": "code",
   "execution_count": 29,
   "id": "c231f4e2",
   "metadata": {},
   "outputs": [
    {
     "data": {
      "text/html": [
       "<div>\n",
       "<style scoped>\n",
       "    .dataframe tbody tr th:only-of-type {\n",
       "        vertical-align: middle;\n",
       "    }\n",
       "\n",
       "    .dataframe tbody tr th {\n",
       "        vertical-align: top;\n",
       "    }\n",
       "\n",
       "    .dataframe thead th {\n",
       "        text-align: right;\n",
       "    }\n",
       "</style>\n",
       "<table border=\"1\" class=\"dataframe\">\n",
       "  <thead>\n",
       "    <tr style=\"text-align: right;\">\n",
       "      <th>Survived</th>\n",
       "      <th>0</th>\n",
       "      <th>1</th>\n",
       "    </tr>\n",
       "    <tr>\n",
       "      <th>Prefix</th>\n",
       "      <th></th>\n",
       "      <th></th>\n",
       "    </tr>\n",
       "  </thead>\n",
       "  <tbody>\n",
       "    <tr>\n",
       "      <th>Master</th>\n",
       "      <td>0.425000</td>\n",
       "      <td>0.575000</td>\n",
       "    </tr>\n",
       "    <tr>\n",
       "      <th>Miss</th>\n",
       "      <td>0.297297</td>\n",
       "      <td>0.702703</td>\n",
       "    </tr>\n",
       "    <tr>\n",
       "      <th>Mr</th>\n",
       "      <td>0.843327</td>\n",
       "      <td>0.156673</td>\n",
       "    </tr>\n",
       "    <tr>\n",
       "      <th>Mrs</th>\n",
       "      <td>0.206349</td>\n",
       "      <td>0.793651</td>\n",
       "    </tr>\n",
       "    <tr>\n",
       "      <th>uncommon</th>\n",
       "      <td>0.652174</td>\n",
       "      <td>0.347826</td>\n",
       "    </tr>\n",
       "  </tbody>\n",
       "</table>\n",
       "</div>"
      ],
      "text/plain": [
       "Survived         0         1\n",
       "Prefix                      \n",
       "Master    0.425000  0.575000\n",
       "Miss      0.297297  0.702703\n",
       "Mr        0.843327  0.156673\n",
       "Mrs       0.206349  0.793651\n",
       "uncommon  0.652174  0.347826"
      ]
     },
     "execution_count": 29,
     "metadata": {},
     "output_type": "execute_result"
    }
   ],
   "source": [
    "pd.crosstab(train['Prefix'], train['Survived'], normalize='index')"
   ]
  },
  {
   "cell_type": "code",
   "execution_count": 30,
   "id": "c8c599f8",
   "metadata": {},
   "outputs": [
    {
     "data": {
      "text/html": [
       "<div>\n",
       "<style scoped>\n",
       "    .dataframe tbody tr th:only-of-type {\n",
       "        vertical-align: middle;\n",
       "    }\n",
       "\n",
       "    .dataframe tbody tr th {\n",
       "        vertical-align: top;\n",
       "    }\n",
       "\n",
       "    .dataframe thead th {\n",
       "        text-align: right;\n",
       "    }\n",
       "</style>\n",
       "<table border=\"1\" class=\"dataframe\">\n",
       "  <thead>\n",
       "    <tr style=\"text-align: right;\">\n",
       "      <th>Survived</th>\n",
       "      <th>0</th>\n",
       "      <th>1</th>\n",
       "    </tr>\n",
       "    <tr>\n",
       "      <th>Prefix</th>\n",
       "      <th></th>\n",
       "      <th></th>\n",
       "    </tr>\n",
       "  </thead>\n",
       "  <tbody>\n",
       "    <tr>\n",
       "      <th>Master</th>\n",
       "      <td>17</td>\n",
       "      <td>23</td>\n",
       "    </tr>\n",
       "    <tr>\n",
       "      <th>Miss</th>\n",
       "      <td>55</td>\n",
       "      <td>130</td>\n",
       "    </tr>\n",
       "    <tr>\n",
       "      <th>Mr</th>\n",
       "      <td>436</td>\n",
       "      <td>81</td>\n",
       "    </tr>\n",
       "    <tr>\n",
       "      <th>Mrs</th>\n",
       "      <td>26</td>\n",
       "      <td>100</td>\n",
       "    </tr>\n",
       "    <tr>\n",
       "      <th>uncommon</th>\n",
       "      <td>15</td>\n",
       "      <td>8</td>\n",
       "    </tr>\n",
       "  </tbody>\n",
       "</table>\n",
       "</div>"
      ],
      "text/plain": [
       "Survived    0    1\n",
       "Prefix            \n",
       "Master     17   23\n",
       "Miss       55  130\n",
       "Mr        436   81\n",
       "Mrs        26  100\n",
       "uncommon   15    8"
      ]
     },
     "execution_count": 30,
     "metadata": {},
     "output_type": "execute_result"
    }
   ],
   "source": [
    "pd.crosstab(train['Prefix'], train['Survived'])"
   ]
  },
  {
   "cell_type": "markdown",
   "id": "2249217a",
   "metadata": {},
   "source": [
    "### There is a strong correletion between Sex of Passenger and survival rate. Females were far more likely to survive then males."
   ]
  },
  {
   "cell_type": "code",
   "execution_count": 31,
   "id": "27ee3f44",
   "metadata": {},
   "outputs": [
    {
     "data": {
      "text/html": [
       "<div>\n",
       "<style scoped>\n",
       "    .dataframe tbody tr th:only-of-type {\n",
       "        vertical-align: middle;\n",
       "    }\n",
       "\n",
       "    .dataframe tbody tr th {\n",
       "        vertical-align: top;\n",
       "    }\n",
       "\n",
       "    .dataframe thead th {\n",
       "        text-align: right;\n",
       "    }\n",
       "</style>\n",
       "<table border=\"1\" class=\"dataframe\">\n",
       "  <thead>\n",
       "    <tr style=\"text-align: right;\">\n",
       "      <th>Survived</th>\n",
       "      <th>0</th>\n",
       "      <th>1</th>\n",
       "    </tr>\n",
       "    <tr>\n",
       "      <th>Sex</th>\n",
       "      <th></th>\n",
       "      <th></th>\n",
       "    </tr>\n",
       "  </thead>\n",
       "  <tbody>\n",
       "    <tr>\n",
       "      <th>female</th>\n",
       "      <td>0.257962</td>\n",
       "      <td>0.742038</td>\n",
       "    </tr>\n",
       "    <tr>\n",
       "      <th>male</th>\n",
       "      <td>0.811092</td>\n",
       "      <td>0.188908</td>\n",
       "    </tr>\n",
       "  </tbody>\n",
       "</table>\n",
       "</div>"
      ],
      "text/plain": [
       "Survived         0         1\n",
       "Sex                         \n",
       "female    0.257962  0.742038\n",
       "male      0.811092  0.188908"
      ]
     },
     "execution_count": 31,
     "metadata": {},
     "output_type": "execute_result"
    }
   ],
   "source": [
    "pd.crosstab(train['Sex'], train['Survived'], normalize='index')"
   ]
  },
  {
   "cell_type": "code",
   "execution_count": 32,
   "id": "496b9cf7",
   "metadata": {},
   "outputs": [
    {
     "data": {
      "text/plain": [
       "512.3292"
      ]
     },
     "execution_count": 32,
     "metadata": {},
     "output_type": "execute_result"
    }
   ],
   "source": [
    "train.Fare.max()"
   ]
  },
  {
   "cell_type": "code",
   "execution_count": 33,
   "id": "9c1d1edd",
   "metadata": {},
   "outputs": [
    {
     "data": {
      "text/plain": [
       "0.0"
      ]
     },
     "execution_count": 33,
     "metadata": {},
     "output_type": "execute_result"
    }
   ],
   "source": [
    "train.Fare.min()"
   ]
  },
  {
   "cell_type": "code",
   "execution_count": 34,
   "id": "7192955c",
   "metadata": {},
   "outputs": [
    {
     "data": {
      "text/plain": [
       "<matplotlib.legend.Legend at 0x24df62c2700>"
      ]
     },
     "execution_count": 34,
     "metadata": {},
     "output_type": "execute_result"
    },
    {
     "data": {
      "image/png": "[encoded data removed]",
      "text/plain": [
       "<Figure size 432x288 with 1 Axes>"
      ]
     },
     "metadata": {
      "needs_background": "light"
     },
     "output_type": "display_data"
    }
   ],
   "source": [
    "plt.hist(x = [train[train['Survived']==1]['Fare'], train[train['Survived']==0]['Fare']], density=True,histtype='bar', color = ['g','r'],label = ['Survived','Dead'])\n",
    "plt.title('Fare by Survival')\n",
    "plt.xlabel('Fare')\n",
    "plt.ylabel('# of Passengers')\n",
    "plt.legend()"
   ]
  },
  {
   "cell_type": "code",
   "execution_count": 35,
   "id": "c95ebedd",
   "metadata": {},
   "outputs": [
    {
     "data": {
      "text/plain": [
       "<matplotlib.legend.Legend at 0x24df635a0d0>"
      ]
     },
     "execution_count": 35,
     "metadata": {},
     "output_type": "execute_result"
    },
    {
     "data": {
      "image/png": "[encoded data removed]",
      "text/plain": [
       "<Figure size 432x288 with 1 Axes>"
      ]
     },
     "metadata": {
      "needs_background": "light"
     },
     "output_type": "display_data"
    }
   ],
   "source": [
    "plt.hist(x = [train[train['Pclass']==1]['Survived'], train[train['Pclass']==2]['Survived'], train[train['Pclass']==3]['Survived']], density=True,histtype='bar', color = ['g','r','b'],label = ['1','2','3'])\n",
    "plt.title('Pclass by Survival')\n",
    "plt.xlabel('Pclass')\n",
    "plt.ylabel('# of Passengers')\n",
    "plt.legend()"
   ]
  },
  {
   "cell_type": "code",
   "execution_count": 36,
   "id": "3d0742ff",
   "metadata": {},
   "outputs": [],
   "source": [
    "test['Fare'].fillna(0,inplace=True)"
   ]
  },
  {
   "cell_type": "code",
   "execution_count": 37,
   "id": "c8dd38f5",
   "metadata": {},
   "outputs": [],
   "source": [
    "train['Fare_Band'] = pd.cut(train['Fare'], bins=[-1,0,30,70,110,300,600], labels=['Zero','Low','Low-Mid','Mid','Mid-High','High'])"
   ]
  },
  {
   "cell_type": "code",
   "execution_count": 38,
   "id": "e5791ec0",
   "metadata": {},
   "outputs": [],
   "source": [
    "test['Fare_Band'] = pd.cut(test['Fare'], bins=[-1,0,30,70,110,300,600], labels=['Zero','Low','Low-Mid','Mid','Mid-High','High'])"
   ]
  },
  {
   "cell_type": "markdown",
   "id": "3128577a",
   "metadata": {},
   "source": [
    "#### There is a Strong Correlation between Fare_Band and Survival. At fare of 0 the survival rate is extremely low, 93% die. As Fare goes the survival rate increases"
   ]
  },
  {
   "cell_type": "code",
   "execution_count": 39,
   "id": "5e50f578",
   "metadata": {},
   "outputs": [
    {
     "data": {
      "text/plain": [
       "<matplotlib.legend.Legend at 0x24df641d430>"
      ]
     },
     "execution_count": 39,
     "metadata": {},
     "output_type": "execute_result"
    },
    {
     "data": {
      "image/png": "[encoded data removed]",
      "text/plain": [
       "<Figure size 432x288 with 1 Axes>"
      ]
     },
     "metadata": {
      "needs_background": "light"
     },
     "output_type": "display_data"
    }
   ],
   "source": [
    "plt.hist(x = [train[train['Fare_Band']=='Zero']['Survived'], train[train['Fare_Band']=='Low']['Survived'], train[train['Fare_Band']=='Low-Mid']['Survived'],train[train['Fare_Band']=='Mid']['Survived'],train[train['Fare_Band']=='Mid-High']['Survived'],train[train['Fare_Band']=='High']['Survived']], density=True,histtype='bar',label = ['Zero','Low','Low-Mid','Mid','Mid-High','High'])\n",
    "plt.title('Fare_Band by Survival')\n",
    "plt.xlabel('FareBand')\n",
    "plt.ylabel('Frequency')\n",
    "plt.legend()"
   ]
  },
  {
   "cell_type": "code",
   "execution_count": 40,
   "id": "7d9743da",
   "metadata": {},
   "outputs": [
    {
     "data": {
      "text/html": [
       "<div>\n",
       "<style scoped>\n",
       "    .dataframe tbody tr th:only-of-type {\n",
       "        vertical-align: middle;\n",
       "    }\n",
       "\n",
       "    .dataframe tbody tr th {\n",
       "        vertical-align: top;\n",
       "    }\n",
       "\n",
       "    .dataframe thead th {\n",
       "        text-align: right;\n",
       "    }\n",
       "</style>\n",
       "<table border=\"1\" class=\"dataframe\">\n",
       "  <thead>\n",
       "    <tr style=\"text-align: right;\">\n",
       "      <th>Survived</th>\n",
       "      <th>0</th>\n",
       "      <th>1</th>\n",
       "    </tr>\n",
       "    <tr>\n",
       "      <th>Fare_Band</th>\n",
       "      <th></th>\n",
       "      <th></th>\n",
       "    </tr>\n",
       "  </thead>\n",
       "  <tbody>\n",
       "    <tr>\n",
       "      <th>Zero</th>\n",
       "      <td>0.933333</td>\n",
       "      <td>0.066667</td>\n",
       "    </tr>\n",
       "    <tr>\n",
       "      <th>Low</th>\n",
       "      <td>0.680685</td>\n",
       "      <td>0.319315</td>\n",
       "    </tr>\n",
       "    <tr>\n",
       "      <th>Low-Mid</th>\n",
       "      <td>0.534884</td>\n",
       "      <td>0.465116</td>\n",
       "    </tr>\n",
       "    <tr>\n",
       "      <th>Mid</th>\n",
       "      <td>0.303571</td>\n",
       "      <td>0.696429</td>\n",
       "    </tr>\n",
       "    <tr>\n",
       "      <th>Mid-High</th>\n",
       "      <td>0.260870</td>\n",
       "      <td>0.739130</td>\n",
       "    </tr>\n",
       "    <tr>\n",
       "      <th>High</th>\n",
       "      <td>0.000000</td>\n",
       "      <td>1.000000</td>\n",
       "    </tr>\n",
       "  </tbody>\n",
       "</table>\n",
       "</div>"
      ],
      "text/plain": [
       "Survived          0         1\n",
       "Fare_Band                    \n",
       "Zero       0.933333  0.066667\n",
       "Low        0.680685  0.319315\n",
       "Low-Mid    0.534884  0.465116\n",
       "Mid        0.303571  0.696429\n",
       "Mid-High   0.260870  0.739130\n",
       "High       0.000000  1.000000"
      ]
     },
     "execution_count": 40,
     "metadata": {},
     "output_type": "execute_result"
    }
   ],
   "source": [
    "pd.crosstab(train['Fare_Band'], train['Survived'], normalize='index')"
   ]
  },
  {
   "cell_type": "code",
   "execution_count": 41,
   "id": "a76bc80f",
   "metadata": {},
   "outputs": [
    {
     "data": {
      "text/html": [
       "<div>\n",
       "<style scoped>\n",
       "    .dataframe tbody tr th:only-of-type {\n",
       "        vertical-align: middle;\n",
       "    }\n",
       "\n",
       "    .dataframe tbody tr th {\n",
       "        vertical-align: top;\n",
       "    }\n",
       "\n",
       "    .dataframe thead th {\n",
       "        text-align: right;\n",
       "    }\n",
       "</style>\n",
       "<table border=\"1\" class=\"dataframe\">\n",
       "  <thead>\n",
       "    <tr style=\"text-align: right;\">\n",
       "      <th></th>\n",
       "      <th>PassengerId</th>\n",
       "      <th>Survived</th>\n",
       "      <th>Pclass</th>\n",
       "      <th>Name</th>\n",
       "      <th>Sex</th>\n",
       "      <th>Age</th>\n",
       "      <th>SibSp</th>\n",
       "      <th>Parch</th>\n",
       "      <th>Ticket</th>\n",
       "      <th>Fare</th>\n",
       "      <th>Embarked</th>\n",
       "      <th>FamilyMembers</th>\n",
       "      <th>Alone</th>\n",
       "      <th>Prefix</th>\n",
       "      <th>Pname</th>\n",
       "      <th>Age_Band</th>\n",
       "      <th>Fare_Band</th>\n",
       "    </tr>\n",
       "  </thead>\n",
       "  <tbody>\n",
       "    <tr>\n",
       "      <th>0</th>\n",
       "      <td>1</td>\n",
       "      <td>0</td>\n",
       "      <td>3</td>\n",
       "      <td>Braund, Mr. Owen Harris</td>\n",
       "      <td>male</td>\n",
       "      <td>22.0</td>\n",
       "      <td>1</td>\n",
       "      <td>0</td>\n",
       "      <td>A/5 21171</td>\n",
       "      <td>7.2500</td>\n",
       "      <td>S</td>\n",
       "      <td>1</td>\n",
       "      <td>0</td>\n",
       "      <td>Mr</td>\n",
       "      <td>NaN</td>\n",
       "      <td>Adult</td>\n",
       "      <td>Low</td>\n",
       "    </tr>\n",
       "    <tr>\n",
       "      <th>1</th>\n",
       "      <td>2</td>\n",
       "      <td>1</td>\n",
       "      <td>1</td>\n",
       "      <td>Cumings, Mrs. John Bradley (Florence Briggs Th...</td>\n",
       "      <td>female</td>\n",
       "      <td>38.0</td>\n",
       "      <td>1</td>\n",
       "      <td>0</td>\n",
       "      <td>PC 17599</td>\n",
       "      <td>71.2833</td>\n",
       "      <td>C</td>\n",
       "      <td>1</td>\n",
       "      <td>0</td>\n",
       "      <td>Mrs</td>\n",
       "      <td>Florence Briggs Thayer</td>\n",
       "      <td>Adult</td>\n",
       "      <td>Mid</td>\n",
       "    </tr>\n",
       "    <tr>\n",
       "      <th>2</th>\n",
       "      <td>3</td>\n",
       "      <td>1</td>\n",
       "      <td>3</td>\n",
       "      <td>Heikkinen, Miss. Laina</td>\n",
       "      <td>female</td>\n",
       "      <td>26.0</td>\n",
       "      <td>0</td>\n",
       "      <td>0</td>\n",
       "      <td>STON/O2. 3101282</td>\n",
       "      <td>7.9250</td>\n",
       "      <td>S</td>\n",
       "      <td>0</td>\n",
       "      <td>1</td>\n",
       "      <td>Miss</td>\n",
       "      <td>NaN</td>\n",
       "      <td>Adult</td>\n",
       "      <td>Low</td>\n",
       "    </tr>\n",
       "    <tr>\n",
       "      <th>3</th>\n",
       "      <td>4</td>\n",
       "      <td>1</td>\n",
       "      <td>1</td>\n",
       "      <td>Futrelle, Mrs. Jacques Heath (Lily May Peel)</td>\n",
       "      <td>female</td>\n",
       "      <td>35.0</td>\n",
       "      <td>1</td>\n",
       "      <td>0</td>\n",
       "      <td>113803</td>\n",
       "      <td>53.1000</td>\n",
       "      <td>S</td>\n",
       "      <td>1</td>\n",
       "      <td>0</td>\n",
       "      <td>Mrs</td>\n",
       "      <td>Lily May Peel</td>\n",
       "      <td>Adult</td>\n",
       "      <td>Low-Mid</td>\n",
       "    </tr>\n",
       "    <tr>\n",
       "      <th>4</th>\n",
       "      <td>5</td>\n",
       "      <td>0</td>\n",
       "      <td>3</td>\n",
       "      <td>Allen, Mr. William Henry</td>\n",
       "      <td>male</td>\n",
       "      <td>35.0</td>\n",
       "      <td>0</td>\n",
       "      <td>0</td>\n",
       "      <td>373450</td>\n",
       "      <td>8.0500</td>\n",
       "      <td>S</td>\n",
       "      <td>0</td>\n",
       "      <td>1</td>\n",
       "      <td>Mr</td>\n",
       "      <td>NaN</td>\n",
       "      <td>Adult</td>\n",
       "      <td>Low</td>\n",
       "    </tr>\n",
       "  </tbody>\n",
       "</table>\n",
       "</div>"
      ],
      "text/plain": [
       "   PassengerId  Survived  Pclass  \\\n",
       "0            1         0       3   \n",
       "1            2         1       1   \n",
       "2            3         1       3   \n",
       "3            4         1       1   \n",
       "4            5         0       3   \n",
       "\n",
       "                                                Name     Sex   Age  SibSp  \\\n",
       "0                            Braund, Mr. Owen Harris    male  22.0      1   \n",
       "1  Cumings, Mrs. John Bradley (Florence Briggs Th...  female  38.0      1   \n",
       "2                             Heikkinen, Miss. Laina  female  26.0      0   \n",
       "3       Futrelle, Mrs. Jacques Heath (Lily May Peel)  female  35.0      1   \n",
       "4                           Allen, Mr. William Henry    male  35.0      0   \n",
       "\n",
       "   Parch            Ticket     Fare Embarked  FamilyMembers  Alone Prefix  \\\n",
       "0      0         A/5 21171   7.2500        S              1      0     Mr   \n",
       "1      0          PC 17599  71.2833        C              1      0    Mrs   \n",
       "2      0  STON/O2. 3101282   7.9250        S              0      1   Miss   \n",
       "3      0            113803  53.1000        S              1      0    Mrs   \n",
       "4      0            373450   8.0500        S              0      1     Mr   \n",
       "\n",
       "                    Pname Age_Band Fare_Band  \n",
       "0                     NaN    Adult       Low  \n",
       "1  Florence Briggs Thayer    Adult       Mid  \n",
       "2                     NaN    Adult       Low  \n",
       "3           Lily May Peel    Adult   Low-Mid  \n",
       "4                     NaN    Adult       Low  "
      ]
     },
     "execution_count": 41,
     "metadata": {},
     "output_type": "execute_result"
    }
   ],
   "source": [
    "train.head()"
   ]
  },
  {
   "cell_type": "markdown",
   "id": "ba8cc50b",
   "metadata": {},
   "source": [
    "## Check for missing values in datasets"
   ]
  },
  {
   "cell_type": "code",
   "execution_count": 42,
   "id": "f28fc66d",
   "metadata": {},
   "outputs": [
    {
     "data": {
      "text/plain": [
       "PassengerId        0\n",
       "Survived           0\n",
       "Pclass             0\n",
       "Name               0\n",
       "Sex                0\n",
       "Age                0\n",
       "SibSp              0\n",
       "Parch              0\n",
       "Ticket             0\n",
       "Fare               0\n",
       "Embarked           2\n",
       "FamilyMembers      0\n",
       "Alone              0\n",
       "Prefix             0\n",
       "Pname            748\n",
       "Age_Band           0\n",
       "Fare_Band          0\n",
       "dtype: int64"
      ]
     },
     "execution_count": 42,
     "metadata": {},
     "output_type": "execute_result"
    }
   ],
   "source": [
    "pd.isna(train).sum()"
   ]
  },
  {
   "cell_type": "code",
   "execution_count": 43,
   "id": "861de0b0",
   "metadata": {
    "scrolled": true
   },
   "outputs": [
    {
     "data": {
      "text/plain": [
       "PassengerId        0\n",
       "Pclass             0\n",
       "Name               0\n",
       "Sex                0\n",
       "Age                0\n",
       "SibSp              0\n",
       "Parch              0\n",
       "Ticket             0\n",
       "Fare               0\n",
       "Embarked           0\n",
       "FamilyMembers      0\n",
       "Alone              0\n",
       "Prefix             0\n",
       "Pname            340\n",
       "Age_Band           0\n",
       "Fare_Band          0\n",
       "dtype: int64"
      ]
     },
     "execution_count": 43,
     "metadata": {},
     "output_type": "execute_result"
    }
   ],
   "source": [
    "pd.isna(test).sum()"
   ]
  },
  {
   "cell_type": "markdown",
   "id": "f112a69d",
   "metadata": {},
   "source": [
    "## Encode\n"
   ]
  },
  {
   "cell_type": "code",
   "execution_count": 44,
   "id": "3043802d",
   "metadata": {},
   "outputs": [
    {
     "data": {
      "text/plain": [
       "Index(['PassengerId', 'Survived', 'Pclass', 'Name', 'Sex', 'Age', 'SibSp',\n",
       "       'Parch', 'Ticket', 'Fare', 'Embarked', 'FamilyMembers', 'Alone',\n",
       "       'Prefix', 'Pname', 'Age_Band', 'Fare_Band'],\n",
       "      dtype='object')"
      ]
     },
     "execution_count": 44,
     "metadata": {},
     "output_type": "execute_result"
    }
   ],
   "source": [
    "train.columns"
   ]
  },
  {
   "cell_type": "code",
   "execution_count": 45,
   "id": "d198678a",
   "metadata": {},
   "outputs": [],
   "source": [
    "to_encode = ['Pclass','Sex','Fare_Band','Age_Band','FamilyMembers','Alone','Prefix','Embarked']"
   ]
  },
  {
   "cell_type": "code",
   "execution_count": 46,
   "id": "c813e2e2",
   "metadata": {},
   "outputs": [],
   "source": [
    "le = LabelEncoder()\n",
    "for i in to_encode:\n",
    "    train[i] = le.fit_transform(train[i])\n",
    "    test[i] = le.transform(test[i])"
   ]
  },
  {
   "cell_type": "markdown",
   "id": "18cecd28",
   "metadata": {},
   "source": [
    "## Visualize"
   ]
  },
  {
   "cell_type": "code",
   "execution_count": 47,
   "id": "3bbb0b00",
   "metadata": {},
   "outputs": [],
   "source": [
    "features =['Pclass','Sex','Fare_Band','Age_Band','FamilyMembers','Alone','Prefix','Embarked','Age','Fare']"
   ]
  },
  {
   "cell_type": "code",
   "execution_count": 48,
   "id": "9bd68683",
   "metadata": {},
   "outputs": [
    {
     "data": {
      "image/png": "[encoded data removed]",
      "text/plain": [
       "<Figure size 1440x1440 with 10 Axes>"
      ]
     },
     "metadata": {
      "needs_background": "light"
     },
     "output_type": "display_data"
    }
   ],
   "source": [
    "fig = plt.figure(figsize = (20,20))\n",
    "i=1\n",
    "for row in features:\n",
    "    fig.add_subplot(5,5,i)\n",
    "    plt.hist(x = [train[train['Survived']==1][row], train[train['Survived']==0][row]], density=True,histtype='bar', color = ['g','r'],label = ['Survived','Dead'])\n",
    "    plt.title(row+' by Survival')\n",
    "    plt.xlabel(row)\n",
    "    plt.ylabel('# of Passengers')\n",
    "    plt.legend()\n",
    "    i+=1\n"
   ]
  },
  {
   "cell_type": "markdown",
   "id": "a454682d",
   "metadata": {},
   "source": [
    "## Normalize"
   ]
  },
  {
   "cell_type": "code",
   "execution_count": 49,
   "id": "cbf6b85f",
   "metadata": {},
   "outputs": [],
   "source": [
    "scaler = StandardScaler()\n",
    "train_X = scaler.fit_transform( train[features])\n",
    "test_X = scaler.transform( test[features])"
   ]
  },
  {
   "cell_type": "markdown",
   "id": "41f39254",
   "metadata": {},
   "source": [
    "## PCA"
   ]
  },
  {
   "cell_type": "code",
   "execution_count": 50,
   "id": "f3017a99",
   "metadata": {},
   "outputs": [
    {
     "data": {
      "text/html": [
       "<div>\n",
       "<style scoped>\n",
       "    .dataframe tbody tr th:only-of-type {\n",
       "        vertical-align: middle;\n",
       "    }\n",
       "\n",
       "    .dataframe tbody tr th {\n",
       "        vertical-align: top;\n",
       "    }\n",
       "\n",
       "    .dataframe thead th {\n",
       "        text-align: right;\n",
       "    }\n",
       "</style>\n",
       "<table border=\"1\" class=\"dataframe\">\n",
       "  <thead>\n",
       "    <tr style=\"text-align: right;\">\n",
       "      <th></th>\n",
       "      <th>0</th>\n",
       "      <th>1</th>\n",
       "      <th>2</th>\n",
       "      <th>3</th>\n",
       "      <th>4</th>\n",
       "      <th>5</th>\n",
       "      <th>6</th>\n",
       "      <th>7</th>\n",
       "      <th>8</th>\n",
       "      <th>9</th>\n",
       "    </tr>\n",
       "  </thead>\n",
       "  <tbody>\n",
       "    <tr>\n",
       "      <th>0</th>\n",
       "      <td>-0.651360</td>\n",
       "      <td>0.899386</td>\n",
       "      <td>1.114195</td>\n",
       "      <td>0.192207</td>\n",
       "      <td>-0.400463</td>\n",
       "      <td>-0.668587</td>\n",
       "      <td>-0.282318</td>\n",
       "      <td>0.255257</td>\n",
       "      <td>-0.557172</td>\n",
       "      <td>-0.816312</td>\n",
       "    </tr>\n",
       "    <tr>\n",
       "      <th>1</th>\n",
       "      <td>3.005683</td>\n",
       "      <td>-1.488933</td>\n",
       "      <td>0.231464</td>\n",
       "      <td>-1.649600</td>\n",
       "      <td>0.593665</td>\n",
       "      <td>-0.221085</td>\n",
       "      <td>-0.883312</td>\n",
       "      <td>-0.274296</td>\n",
       "      <td>-0.261900</td>\n",
       "      <td>-0.114358</td>\n",
       "    </tr>\n",
       "    <tr>\n",
       "      <th>2</th>\n",
       "      <td>-1.102959</td>\n",
       "      <td>0.691384</td>\n",
       "      <td>-0.313215</td>\n",
       "      <td>-0.680322</td>\n",
       "      <td>-0.676221</td>\n",
       "      <td>1.733848</td>\n",
       "      <td>0.228134</td>\n",
       "      <td>-0.139264</td>\n",
       "      <td>0.428723</td>\n",
       "      <td>-0.180892</td>\n",
       "    </tr>\n",
       "    <tr>\n",
       "      <th>3</th>\n",
       "      <td>1.882438</td>\n",
       "      <td>-0.944110</td>\n",
       "      <td>1.439334</td>\n",
       "      <td>-0.204187</td>\n",
       "      <td>0.560553</td>\n",
       "      <td>1.053286</td>\n",
       "      <td>-0.351620</td>\n",
       "      <td>0.144961</td>\n",
       "      <td>-0.941080</td>\n",
       "      <td>-0.096915</td>\n",
       "    </tr>\n",
       "    <tr>\n",
       "      <th>4</th>\n",
       "      <td>-1.637941</td>\n",
       "      <td>-0.540708</td>\n",
       "      <td>0.276400</td>\n",
       "      <td>0.285113</td>\n",
       "      <td>-0.455367</td>\n",
       "      <td>-0.056478</td>\n",
       "      <td>0.079837</td>\n",
       "      <td>0.150567</td>\n",
       "      <td>0.349501</td>\n",
       "      <td>-0.135661</td>\n",
       "    </tr>\n",
       "  </tbody>\n",
       "</table>\n",
       "</div>"
      ],
      "text/plain": [
       "          0         1         2         3         4         5         6  \\\n",
       "0 -0.651360  0.899386  1.114195  0.192207 -0.400463 -0.668587 -0.282318   \n",
       "1  3.005683 -1.488933  0.231464 -1.649600  0.593665 -0.221085 -0.883312   \n",
       "2 -1.102959  0.691384 -0.313215 -0.680322 -0.676221  1.733848  0.228134   \n",
       "3  1.882438 -0.944110  1.439334 -0.204187  0.560553  1.053286 -0.351620   \n",
       "4 -1.637941 -0.540708  0.276400  0.285113 -0.455367 -0.056478  0.079837   \n",
       "\n",
       "          7         8         9  \n",
       "0  0.255257 -0.557172 -0.816312  \n",
       "1 -0.274296 -0.261900 -0.114358  \n",
       "2 -0.139264  0.428723 -0.180892  \n",
       "3  0.144961 -0.941080 -0.096915  \n",
       "4  0.150567  0.349501 -0.135661  "
      ]
     },
     "execution_count": 50,
     "metadata": {},
     "output_type": "execute_result"
    }
   ],
   "source": [
    "from sklearn.decomposition import PCA\n",
    "pca = PCA()\n",
    "x_pca = pca.fit_transform(train_X)\n",
    "x_pca = pd.DataFrame(x_pca)\n",
    "x_pca.head()"
   ]
  },
  {
   "cell_type": "code",
   "execution_count": 51,
   "id": "f227e247",
   "metadata": {},
   "outputs": [
    {
     "data": {
      "text/plain": [
       "array([0.25402896, 0.21794336, 0.11773543, 0.09701616, 0.08745298,\n",
       "       0.08053263, 0.04407001, 0.04138308, 0.03864227, 0.02119511])"
      ]
     },
     "execution_count": 51,
     "metadata": {},
     "output_type": "execute_result"
    }
   ],
   "source": [
    "explained_variance = pca.explained_variance_ratio_\n",
    "explained_variance"
   ]
  },
  {
   "cell_type": "code",
   "execution_count": 52,
   "id": "f2dab0a8",
   "metadata": {},
   "outputs": [
    {
     "data": {
      "image/png": "[encoded data removed]",
      "text/plain": [
       "<Figure size 432x288 with 1 Axes>"
      ]
     },
     "metadata": {
      "needs_background": "light"
     },
     "output_type": "display_data"
    }
   ],
   "source": [
    "plt.plot([1,2,3,4,5,6,7,8,9,10], np.cumsum(pca.explained_variance_ratio_))\n",
    "plt.xlabel('number of components')\n",
    "plt.ylabel('cumulative explained variance');"
   ]
  },
  {
   "cell_type": "code",
   "execution_count": 53,
   "id": "03c23bc7",
   "metadata": {},
   "outputs": [],
   "source": [
    "test_pca = pca.transform(test_X)\n",
    "test_features = pd.DataFrame(test_pca)"
   ]
  },
  {
   "cell_type": "markdown",
   "id": "15de2a70",
   "metadata": {},
   "source": [
    "## Feature Selection"
   ]
  },
  {
   "cell_type": "markdown",
   "id": "8276649c",
   "metadata": {},
   "source": [
    "Model Selection"
   ]
  },
  {
   "cell_type": "code",
   "execution_count": 54,
   "id": "9cc572e5",
   "metadata": {},
   "outputs": [],
   "source": [
    "y=train['Survived']\n",
    "train.drop(columns= ['Survived'], inplace=True)"
   ]
  },
  {
   "cell_type": "code",
   "execution_count": 55,
   "id": "9831a730",
   "metadata": {},
   "outputs": [],
   "source": [
    "X = x_pca"
   ]
  },
  {
   "cell_type": "code",
   "execution_count": 56,
   "id": "cec44fdc",
   "metadata": {},
   "outputs": [],
   "source": [
    "X_train, X_test, y_train, y_test = train_test_split(X, y, test_size=0.15)"
   ]
  },
  {
   "cell_type": "markdown",
   "id": "012e649b",
   "metadata": {},
   "source": [
    "## Random Forest Classification"
   ]
  },
  {
   "cell_type": "code",
   "execution_count": 57,
   "id": "1b533b35",
   "metadata": {},
   "outputs": [],
   "source": [
    "from sklearn.ensemble import RandomForestClassifier\n",
    "from sklearn.metrics import precision_score,recall_score,accuracy_score\n",
    "clf = RandomForestClassifier(\n",
    "    criterion='entropy',\n",
    "    n_jobs = -1,\n",
    "    random_state=25,\n",
    "    n_estimators=1000,\n",
    "    min_samples_split=25,\n",
    "    oob_score=True)\n",
    "clf.fit(X_train, y_train)\n",
    "predictions = clf.predict(X_test)\n",
    "best_preds = predictions"
   ]
  },
  {
   "cell_type": "code",
   "execution_count": 58,
   "id": "29b77f7b",
   "metadata": {},
   "outputs": [
    {
     "name": "stdout",
     "output_type": "stream",
     "text": [
      "Precision = 0.8350978135788263\n",
      "Recall = 0.825\n",
      "Accuracy = 0.8283582089552238\n"
     ]
    }
   ],
   "source": [
    "print(\"Precision = {}\".format(precision_score(y_test, best_preds, average='macro')))\n",
    "print(\"Recall = {}\".format(recall_score(y_test, best_preds, average='macro')))\n",
    "print(\"Accuracy = {}\".format(accuracy_score(y_test, best_preds)))"
   ]
  },
  {
   "cell_type": "code",
   "execution_count": 59,
   "id": "136f6044",
   "metadata": {},
   "outputs": [
    {
     "data": {
      "text/plain": [
       "array([0.17496967, 0.07109951, 0.08210108, 0.13154235, 0.07437695,\n",
       "       0.23816149, 0.05475447, 0.04616582, 0.08012547, 0.04670318])"
      ]
     },
     "execution_count": 59,
     "metadata": {},
     "output_type": "execute_result"
    }
   ],
   "source": [
    "clf.feature_importances_"
   ]
  },
  {
   "cell_type": "code",
   "execution_count": 60,
   "id": "5c0854f7",
   "metadata": {},
   "outputs": [
    {
     "data": {
      "image/png": "[encoded data removed]",
      "text/plain": [
       "<Figure size 576x396 with 1 Axes>"
      ]
     },
     "metadata": {
      "needs_background": "light"
     },
     "output_type": "display_data"
    }
   ],
   "source": [
    "import shap\n",
    "shap_values = shap.TreeExplainer(clf).shap_values(X_train)\n",
    "shap.summary_plot(shap_values, X_train, plot_type=\"bar\")"
   ]
  },
  {
   "cell_type": "code",
   "execution_count": 61,
   "id": "e74aa79a",
   "metadata": {},
   "outputs": [],
   "source": [
    "from sklearn.ensemble import RandomForestClassifier\n",
    "from sklearn.metrics import precision_score,recall_score,accuracy_score\n",
    "clf = RandomForestClassifier(\n",
    "    criterion='entropy',\n",
    "    n_jobs = -1,\n",
    "    random_state=25,\n",
    "    n_estimators=1000,\n",
    "    min_samples_split=25,\n",
    "    oob_score=True)\n",
    "clf.fit(X_train[[5,3,0,2,8,4]], y_train)\n",
    "predictions = clf.predict(X_test[[5,3,0,2,8,4]])\n",
    "best_preds = predictions\n"
   ]
  },
  {
   "cell_type": "code",
   "execution_count": 62,
   "id": "e143ba47",
   "metadata": {},
   "outputs": [
    {
     "name": "stdout",
     "output_type": "stream",
     "text": [
      "Precision = 0.8389292196007259\n",
      "Recall = 0.8334821428571428\n",
      "Accuracy = 0.835820895522388\n"
     ]
    }
   ],
   "source": [
    "print(\"Precision = {}\".format(precision_score(y_test, best_preds, average='macro')))\n",
    "print(\"Recall = {}\".format(recall_score(y_test, best_preds, average='macro')))\n",
    "print(\"Accuracy = {}\".format(accuracy_score(y_test, best_preds)))"
   ]
  },
  {
   "cell_type": "markdown",
   "id": "2f705b9d",
   "metadata": {},
   "source": [
    "## XGBoost Classification"
   ]
  },
  {
   "cell_type": "code",
   "execution_count": 63,
   "id": "c6edffad",
   "metadata": {},
   "outputs": [],
   "source": [
    "import xgboost as xgb"
   ]
  },
  {
   "cell_type": "code",
   "execution_count": 64,
   "id": "cac71117",
   "metadata": {},
   "outputs": [],
   "source": [
    "D_train = xgb.DMatrix(X_train[[5,3,0,2,8,4]], label=y_train)\n",
    "D_test = xgb.DMatrix(X_test[[5,3,0,2,8,4]], label=y_test)"
   ]
  },
  {
   "cell_type": "code",
   "execution_count": 65,
   "id": "28aeaee7",
   "metadata": {},
   "outputs": [],
   "source": [
    "param = {\n",
    "    'eta': 0.3, \n",
    "    'max_depth': 3,  \n",
    "    'objective': 'multi:softprob', \n",
    "    'num_class': 3}\n",
    "\n",
    "steps = 5"
   ]
  },
  {
   "cell_type": "code",
   "execution_count": 66,
   "id": "87b6b597",
   "metadata": {},
   "outputs": [
    {
     "name": "stdout",
     "output_type": "stream",
     "text": [
      "[17:08:03] WARNING: C:/Users/Administrator/workspace/xgboost-win64_release_1.5.1/src/learner.cc:1115: Starting in XGBoost 1.3.0, the default evaluation metric used with the objective 'multi:softprob' was changed from 'merror' to 'mlogloss'. Explicitly set eval_metric if you'd like to restore the old behavior.\n"
     ]
    }
   ],
   "source": [
    "model = xgb.train(param, D_train, steps)"
   ]
  },
  {
   "cell_type": "code",
   "execution_count": 67,
   "id": "0ef5bfc7",
   "metadata": {},
   "outputs": [
    {
     "name": "stdout",
     "output_type": "stream",
     "text": [
      "Precision = 0.8168386491557224\n",
      "Recall = 0.8015625\n",
      "Accuracy = 0.8059701492537313\n"
     ]
    }
   ],
   "source": [
    "from sklearn.metrics import precision_score, recall_score, accuracy_score\n",
    "preds = model.predict(D_test)\n",
    "best_preds = np.asarray([np.argmax(line) for line in preds])\n",
    "\n",
    "print(\"Precision = {}\".format(precision_score(y_test, best_preds, average='macro')))\n",
    "print(\"Recall = {}\".format(recall_score(y_test, best_preds, average='macro')))\n",
    "print(\"Accuracy = {}\".format(accuracy_score(y_test, best_preds)))"
   ]
  },
  {
   "cell_type": "code",
   "execution_count": 68,
   "id": "b8333624",
   "metadata": {},
   "outputs": [
    {
     "name": "stdout",
     "output_type": "stream",
     "text": [
      "[17:08:03] WARNING: C:/Users/Administrator/workspace/xgboost-win64_release_1.5.1/src/learner.cc:1115: Starting in XGBoost 1.3.0, the default evaluation metric used with the objective 'multi:softprob' was changed from 'merror' to 'mlogloss'. Explicitly set eval_metric if you'd like to restore the old behavior.\n",
      "Precision = 0.8444444444444444\n",
      "Recall = 0.8321428571428571\n",
      "Accuracy = 0.835820895522388\n"
     ]
    }
   ],
   "source": [
    "param = {\n",
    "    'eta': 0.01, \n",
    "    'max_depth': 4,  \n",
    "    'num_parallel_tree':64,\n",
    "    'objective': 'multi:softprob',  \n",
    "    'num_class': 3} \n",
    "steps = 200 \n",
    "\n",
    "model = xgb.train(param, D_train, steps)\n",
    "preds = model.predict(D_test)\n",
    "best_preds = np.asarray([np.argmax(line) for line in preds])\n",
    "\n",
    "print(\"Precision = {}\".format(precision_score(y_test, best_preds, average='macro')))\n",
    "print(\"Recall = {}\".format(recall_score(y_test, best_preds, average='macro')))\n",
    "print(\"Accuracy = {}\".format(accuracy_score(y_test, best_preds)))"
   ]
  },
  {
   "cell_type": "code",
   "execution_count": 69,
   "id": "804e76aa",
   "metadata": {},
   "outputs": [
    {
     "data": {
      "image/png": "[encoded data removed]",
      "text/plain": [
       "<Figure size 432x288 with 1 Axes>"
      ]
     },
     "metadata": {
      "needs_background": "light"
     },
     "output_type": "display_data"
    }
   ],
   "source": [
    "xgb.plot_tree(model,num_trees=0)\n",
    "plt.rcParams['figure.figsize'] = [20, 20]\n",
    "plt.show()"
   ]
  },
  {
   "cell_type": "code",
   "execution_count": 70,
   "id": "0cfa77bc",
   "metadata": {},
   "outputs": [
    {
     "data": {
      "text/plain": [
       "<AxesSubplot:title={'center':'Feature importance'}, xlabel='F score', ylabel='Features'>"
      ]
     },
     "execution_count": 70,
     "metadata": {},
     "output_type": "execute_result"
    },
    {
     "data": {
      "image/png": "[encoded data removed]",
      "text/plain": [
       "<Figure size 1440x1440 with 1 Axes>"
      ]
     },
     "metadata": {
      "needs_background": "light"
     },
     "output_type": "display_data"
    }
   ],
   "source": [
    "xgb.plot_importance(model)"
   ]
  },
  {
   "cell_type": "code",
   "execution_count": 71,
   "id": "117bca50",
   "metadata": {},
   "outputs": [
    {
     "name": "stderr",
     "output_type": "stream",
     "text": [
      "The use of label encoder in XGBClassifier is deprecated and will be removed in a future release. To remove this warning, do the following: 1) Pass option use_label_encoder=False when constructing XGBClassifier object; and 2) Encode your labels (y) as integers starting with 0, i.e. 0, 1, 2, ..., [num_class - 1].\n"
     ]
    },
    {
     "name": "stdout",
     "output_type": "stream",
     "text": [
      "[17:08:18] WARNING: C:/Users/Administrator/workspace/xgboost-win64_release_1.5.1/src/learner.cc:1115: Starting in XGBoost 1.3.0, the default evaluation metric used with the objective 'binary:logistic' was changed from 'error' to 'logloss'. Explicitly set eval_metric if you'd like to restore the old behavior.\n",
      "Precision = 0.7866256550467077\n",
      "Recall = 0.7808035714285715\n",
      "Accuracy = 0.7835820895522388\n"
     ]
    }
   ],
   "source": [
    "from xgboost import XGBClassifier\n",
    "\n",
    "model=xgb.XGBClassifier(num_parallel_tree=15,random_state=1,learning_rate=0.001)\n",
    "model.fit(X_train[[5,3,0,2,8,4]], y_train)\n",
    "best_preds = model.predict(X_test[[5,3,0,2,8,4]])\n",
    "\n",
    "print(\"Precision = {}\".format(precision_score(y_test, best_preds, average='macro')))\n",
    "print(\"Recall = {}\".format(recall_score(y_test, best_preds, average='macro')))\n",
    "print(\"Accuracy = {}\".format(accuracy_score(y_test, best_preds)))"
   ]
  },
  {
   "cell_type": "markdown",
   "id": "700b5f91",
   "metadata": {},
   "source": [
    "## Logistic Regression"
   ]
  },
  {
   "cell_type": "code",
   "execution_count": 72,
   "id": "a75eae9d",
   "metadata": {},
   "outputs": [],
   "source": [
    "from sklearn.linear_model import LogisticRegression"
   ]
  },
  {
   "cell_type": "code",
   "execution_count": 73,
   "id": "ecf0c2ee",
   "metadata": {},
   "outputs": [],
   "source": [
    "logreg = LogisticRegression(random_state=5).fit(X_train[[5,3,0,2,8,4]], y_train)"
   ]
  },
  {
   "cell_type": "code",
   "execution_count": 74,
   "id": "b9db7536",
   "metadata": {},
   "outputs": [],
   "source": [
    "predictions = logreg.predict(X_test[[5,3,0,2,8,4]])\n",
    "best_preds = predictions"
   ]
  },
  {
   "cell_type": "code",
   "execution_count": 75,
   "id": "dcb38bd3",
   "metadata": {},
   "outputs": [
    {
     "name": "stdout",
     "output_type": "stream",
     "text": [
      "Precision = 0.8042577675489068\n",
      "Recall = 0.7950892857142857\n",
      "Accuracy = 0.7985074626865671\n"
     ]
    }
   ],
   "source": [
    "print(\"Precision = {}\".format(precision_score(y_test, best_preds, average='macro')))\n",
    "print(\"Recall = {}\".format(recall_score(y_test, best_preds, average='macro')))\n",
    "print(\"Accuracy = {}\".format(accuracy_score(y_test, best_preds)))"
   ]
  },
  {
   "cell_type": "markdown",
   "id": "065508ed",
   "metadata": {},
   "source": [
    "## KNN"
   ]
  },
  {
   "cell_type": "code",
   "execution_count": 76,
   "id": "73554c2b",
   "metadata": {},
   "outputs": [],
   "source": [
    "from sklearn.neighbors import KNeighborsClassifier\n",
    "neigh = KNeighborsClassifier(n_neighbors=3)"
   ]
  },
  {
   "cell_type": "code",
   "execution_count": 77,
   "id": "e9ff47e7",
   "metadata": {},
   "outputs": [],
   "source": [
    "neigh.fit(X_train[[5,3,0,2,8,4]], y_train)\n",
    "predictions = neigh.predict(X_test[[5,3,0,2,8,4]])\n",
    "best_preds = predictions"
   ]
  },
  {
   "cell_type": "code",
   "execution_count": 78,
   "id": "0d9b22a3",
   "metadata": {},
   "outputs": [
    {
     "name": "stdout",
     "output_type": "stream",
     "text": [
      "Precision = 0.8350978135788263\n",
      "Recall = 0.825\n",
      "Accuracy = 0.8283582089552238\n"
     ]
    }
   ],
   "source": [
    "print(\"Precision = {}\".format(precision_score(y_test, best_preds, average='macro')))\n",
    "print(\"Recall = {}\".format(recall_score(y_test, best_preds, average='macro')))\n",
    "print(\"Accuracy = {}\".format(accuracy_score(y_test, best_preds)))"
   ]
  },
  {
   "cell_type": "markdown",
   "id": "47a2027c",
   "metadata": {},
   "source": [
    "## Write predicitons to Submission File"
   ]
  },
  {
   "cell_type": "markdown",
   "id": "3c29d5ae",
   "metadata": {},
   "source": [
    "### Using Random Forest Classifier to predict the values."
   ]
  },
  {
   "cell_type": "code",
   "execution_count": 79,
   "id": "2fa444ab",
   "metadata": {},
   "outputs": [],
   "source": [
    "preds = clf.predict(test_features[[5,3,0,2,8,4]])"
   ]
  },
  {
   "cell_type": "code",
   "execution_count": 80,
   "id": "7538b60a",
   "metadata": {},
   "outputs": [],
   "source": [
    "y_pred_frame = pd.DataFrame()\n",
    "y_pred_frame['Survived'] = preds\n",
    "y_pred_frame.index = np.arange(892, len(preds)+892)\n",
    "y_pred_frame.index.name = 'PassengerId'"
   ]
  },
  {
   "cell_type": "code",
   "execution_count": 81,
   "id": "e5547b36",
   "metadata": {},
   "outputs": [],
   "source": [
    "y_pred_frame.to_csv('submission.csv', sep=',')"
   ]
  },
  {
   "cell_type": "markdown",
   "id": "a92e3ce2",
   "metadata": {},
   "source": [
    "## Kaggle Submission yields a .78947 accuracy."
   ]
  },
  {
   "cell_type": "code",
   "execution_count": 82,
   "id": "4fa230b3",
   "metadata": {},
   "outputs": [
    {
     "data": {
      "image/png": "[encoded data removed]",
      "text/plain": [
       "<IPython.core.display.Image object>"
      ]
     },
     "execution_count": 82,
     "metadata": {},
     "output_type": "execute_result"
    }
   ],
   "source": [
    "from IPython.display import Image\n",
    "Image(filename='Titanic Kaggle Submission.png')"
   ]
  }
 ],
 "metadata": {
  "kernelspec": {
   "display_name": "Python 3 (ipykernel)",
   "language": "python",
   "name": "python3"
  },
  "language_info": {
   "codemirror_mode": {
    "name": "ipython",
    "version": 3
   },
   "file_extension": ".py",
   "mimetype": "text/x-python",
   "name": "python",
   "nbconvert_exporter": "python",
   "pygments_lexer": "ipython3",
   "version": "3.8.8"
  }
 },
 "nbformat": 4,
 "nbformat_minor": 5
}
